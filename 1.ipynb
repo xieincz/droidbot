{
 "cells": [
  {
   "cell_type": "code",
   "execution_count": 5,
   "metadata": {},
   "outputs": [],
   "source": [
    "import subprocess as sp\n",
    "import os\n",
    "from glob import glob\n",
    "import shutil"
   ]
  },
  {
   "cell_type": "code",
   "execution_count": 6,
   "metadata": {},
   "outputs": [],
   "source": [
    "# droidbot -keep_env -grant_perm -ignore_ad -count 10800 -a \"Firefox Fast & Private Browser_125.3.0_APKPure.apk\" -o output_dir_apk_name\n",
    "\n",
    "\n",
    "def run_droidbot(apk_path: str, output_dir_path: str):\n",
    "    assert os.path.exists(apk_path), \"APK file not found\"\n",
    "    ret = sp.run(\n",
    "        [\n",
    "            \"droidbot\",\n",
    "            \"-keep_env\",\n",
    "            \"-grant_perm\",\n",
    "            \"-ignore_ad\",\n",
    "            \"-count\",\n",
    "            \"10800\",\n",
    "            \"-a\",\n",
    "            apk_path,\n",
    "            \"-o\",\n",
    "            output_dir_path,\n",
    "        ],\n",
    "        capture_output=True,\n",
    "    )\n",
    "    if ret.returncode != 0:\n",
    "        print(ret.stderr.decode(\"utf-8\"))\n",
    "        print(\"\\n\")\n",
    "        print(ret.stdout.decode(\"utf-8\"))\n",
    "        return False\n",
    "    return True"
   ]
  },
  {
   "cell_type": "code",
   "execution_count": 7,
   "metadata": {},
   "outputs": [],
   "source": [
    "category = \"tools\"\n",
    "\n",
    "input_root_dir = \"apks\"\n",
    "output_root_dir = \"utg\"\n",
    "\n",
    "input_dir = os.path.join(input_root_dir, category)\n",
    "output_category_dir = os.path.join(output_root_dir, category)\n",
    "os.makedirs(output_category_dir, exist_ok=True)\n",
    "\n",
    "processing_dir = os.path.join(input_dir, \"processing\")\n",
    "os.makedirs(processing_dir, exist_ok=True)\n",
    "finished_dir = os.path.join(input_dir, \"finished\")\n",
    "os.makedirs(finished_dir, exist_ok=True)"
   ]
  },
  {
   "cell_type": "code",
   "execution_count": null,
   "metadata": {},
   "outputs": [],
   "source": [
    "def contains_apk_files(directory: str):\n",
    "    return len(glob(os.path.join(directory, \"*.apk\"))) > 0"
   ]
  },
  {
   "cell_type": "code",
   "execution_count": null,
   "metadata": {},
   "outputs": [],
   "source": [
    "def process_one_apk(input_dir, processing_dir, finished_dir, output_category_dir):\n",
    "    apk_fps = glob(os.path.join(input_dir, \"*.apk\"))\n",
    "\n",
    "    if len(apk_fps) > 0:\n",
    "        apk_fp = apk_fps[0]\n",
    "        apk_fn = os.path.basename(apk_fp)\n",
    "        processing_fp = os.path.join(processing_dir, apk_fn)\n",
    "        if os.path.exists(processing_fp):\n",
    "            print(f\"Already processing {apk_fp}\")\n",
    "            return\n",
    "        finished_fp = os.path.join(finished_dir, apk_fn)\n",
    "        if os.path.exists(finished_fp):\n",
    "            print(f\"Already finished {apk_fp}\")\n",
    "            return\n",
    "        # begin processing\n",
    "        shutil.move(apk_fp, processing_fp)\n",
    "        ok = run_droidbot(processing_fp, os.path.join(output_category_dir, apk_fn))\n",
    "        if ok:\n",
    "            shutil.move(processing_fp, finished_fp)\n",
    "        else:\n",
    "            shutil.move(processing_fp, apk_fp)"
   ]
  },
  {
   "cell_type": "code",
   "execution_count": null,
   "metadata": {},
   "outputs": [],
   "source": [
    "def main():\n",
    "    cnt = 0\n",
    "    while contains_apk_files(input_dir):\n",
    "        process_one_apk(input_dir, processing_dir, finished_dir, output_category_dir)\n",
    "        cnt += 1\n",
    "        if cnt % 10 == 0:\n",
    "            print(f\"Processed {cnt} apks\")\n",
    "    print(f\"Processed {cnt} apks\")"
   ]
  }
 ],
 "metadata": {
  "kernelspec": {
   "display_name": "droidbot",
   "language": "python",
   "name": "python3"
  },
  "language_info": {
   "codemirror_mode": {
    "name": "ipython",
    "version": 3
   },
   "file_extension": ".py",
   "mimetype": "text/x-python",
   "name": "python",
   "nbconvert_exporter": "python",
   "pygments_lexer": "ipython3",
   "version": "3.10.14"
  }
 },
 "nbformat": 4,
 "nbformat_minor": 2
}
