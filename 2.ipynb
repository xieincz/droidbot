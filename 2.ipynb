{
 "cells": [
  {
   "cell_type": "code",
   "execution_count": null,
   "metadata": {},
   "outputs": [],
   "source": [
    "from androguard.util import set_log\n",
    "\n",
    "set_log(\"ERROR\")  # 关闭琐碎的DEBUG输出\n",
    "from androguard.misc import AnalyzeAPK\n",
    "\n",
    "# https://androguard.readthedocs.io/en/latest/intro/gettingstarted.html"
   ]
  },
  {
   "cell_type": "code",
   "execution_count": null,
   "metadata": {},
   "outputs": [],
   "source": [
    "apk_fp = (\n",
    "    rf\"E:\\Code\\python-dev\\droidbot\\apks\\tools\\processing\\com.macrovideo.v380pro.apk\"\n",
    ")\n",
    "a, d, dx = AnalyzeAPK(apk_fp)"
   ]
  },
  {
   "cell_type": "code",
   "execution_count": null,
   "metadata": {},
   "outputs": [],
   "source": [
    "a.get_package(), a.get_app_name()"
   ]
  },
  {
   "cell_type": "code",
   "execution_count": null,
   "metadata": {},
   "outputs": [],
   "source": [
    "a.get_activities()"
   ]
  },
  {
   "cell_type": "code",
   "execution_count": null,
   "metadata": {},
   "outputs": [],
   "source": [
    "activity_list = a.get_activities()"
   ]
  },
  {
   "cell_type": "code",
   "execution_count": null,
   "metadata": {},
   "outputs": [],
   "source": [
    "# List of keywords to search for\n",
    "keywords = [\n",
    "    \"login\",\n",
    "    \"signin\",\n",
    "    \"sign_in\",\n",
    "    \"log_in\",\n",
    "    \"loginactivity\",\n",
    "    \"signinactivity\",\n",
    "    \"loginscreen\",\n",
    "    \"loginpage\",\n",
    "    \"account\",\n",
    "    \"accountactivity\",\n",
    "    \"accountscreen\",\n",
    "    \"accountpage\",\n",
    "    \"myaccount\",\n",
    "    \"register\",\n",
    "    \"signup\",\n",
    "    \"sign_up\",\n",
    "    \"registration\",\n",
    "    \"registeractivity\",\n",
    "    \"signupactivity\",\n",
    "    \"registrationactivity\",\n",
    "    \"auth\",\n",
    "    \"authentication\",\n",
    "    \"authactivity\",\n",
    "    \"authenticate\",\n",
    "    \"credential\",\n",
    "    \"password\",\n",
    "    \"passcode\",\n",
    "    \"pin\",\n",
    "    \"pincode\",\n",
    "]\n",
    "\n",
    "# Check if any activity contains any of the keywords, case-insensitively\n",
    "contains_keyword = any(\n",
    "    any(keyword.lower() in activity.lower() for keyword in keywords)\n",
    "    for activity in activity_list\n",
    ")\n",
    "\n",
    "# Output the result\n",
    "print(\"Contains relevant activity:\", contains_keyword)"
   ]
  }
 ],
 "metadata": {
  "kernelspec": {
   "display_name": "droidbot",
   "language": "python",
   "name": "python3"
  },
  "language_info": {
   "codemirror_mode": {
    "name": "ipython",
    "version": 3
   },
   "file_extension": ".py",
   "mimetype": "text/x-python",
   "name": "python",
   "nbconvert_exporter": "python",
   "pygments_lexer": "ipython3",
   "version": "3.10.14"
  }
 },
 "nbformat": 4,
 "nbformat_minor": 2
}
